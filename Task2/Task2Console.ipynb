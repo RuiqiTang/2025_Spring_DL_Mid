{
 "cells": [
  {
   "cell_type": "code",
   "execution_count": null,
   "metadata": {},
   "outputs": [],
   "source": [
    "# For Visualization\n",
    "from mmdetection.mmdet.apis import init_detector, inference_detector\n",
    "import mmcv\n",
    "import matplotlib.pyplot as plt\n",
    "\n",
    "# 加载模型\n",
    "mask_model = init_detector('configs/voc/mask_rcnn_r50_fpn_1x_voc.py', 'work_dirs/mask_rcnn_r50_fpn_1x_voc/latest.pth')\n",
    "sparse_model = init_detector('configs/voc/sparse_rcnn_r50_fpn_1x_voc.py', 'work_dirs/sparse_rcnn_r50_fpn_1x_voc/latest.pth')\n",
    "\n",
    "# 4张测试图像路径\n",
    "test_imgs = ['data/VOCdevkit/VOC2007/JPEGImages/000001.jpg', ...]  # 补齐四张图片路径\n",
    "\n",
    "for img in test_imgs:\n",
    "    result_mask = inference_detector(mask_model, img)\n",
    "    result_sparse = inference_detector(sparse_model, img)\n",
    "    \n",
    "    mask_model.show_result(img, result_mask, out_file=f\"compare/mask_rcnn_{img.split('/')[-1]}\")\n",
    "    sparse_model.show_result(img, result_sparse, out_file=f\"compare/sparse_rcnn_{img.split('/')[-1]}\")\n"
   ]
  },
  {
   "cell_type": "code",
   "execution_count": null,
   "metadata": {},
   "outputs": [],
   "source": [
    "# External Images Test\n",
    "external_imgs = ['data/external/external1.jpg', 'data/external/external2.jpg', 'data/external/external3.jpg']\n",
    "\n",
    "for img in external_imgs:\n",
    "    result_mask = inference_detector(mask_model, img)\n",
    "    result_sparse = inference_detector(sparse_model, img)\n",
    "    \n",
    "    mask_model.show_result(img, result_mask, out_file=f\"external/mask_rcnn_{img.split('/')[-1]}\")\n",
    "    sparse_model.show_result(img, result_sparse, out_file=f\"external/sparse_rcnn_{img.split('/')[-1]}\")"
   ]
  }
 ],
 "metadata": {
  "kernelspec": {
   "display_name": "python39",
   "language": "python",
   "name": "python3"
  },
  "language_info": {
   "name": "python",
   "version": "3.9.19"
  }
 },
 "nbformat": 4,
 "nbformat_minor": 2
}
