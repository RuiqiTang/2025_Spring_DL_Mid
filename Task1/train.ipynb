{
 "cells": [
  {
   "cell_type": "code",
   "execution_count": 6,
   "metadata": {},
   "outputs": [],
   "source": [
    "import os \n",
    "workspace='/Users/tr/Documents/GitHub/2025_Spring_DL_Mid'\n",
    "os.chdir(workspace)"
   ]
  },
  {
   "cell_type": "code",
   "execution_count": null,
   "metadata": {},
   "outputs": [],
   "source": [
    "from preprocess.Task1Preprocess import Task1Proprocess\n",
    "Task1Proprocess(filebase=\"/Users/tr/Documents/GitHub/2025_Spring_DL_Mid/Task1/data\")"
   ]
  },
  {
   "cell_type": "code",
   "execution_count": 12,
   "metadata": {},
   "outputs": [
    {
     "name": "stdout",
     "output_type": "stream",
     "text": [
      "Train size: 3030, Val size: 5647\n"
     ]
    }
   ],
   "source": [
    "from preprocess.Task1Preprocess import Task1Dataloader\n",
    "dataloader_instance=Task1Dataloader(datafilebase='/Users/tr/Documents/GitHub/2025_Spring_DL_Mid/Task1/data/caltect101/images')\n",
    "trainloader,valloader=dataloader_instance.prepare_data()"
   ]
  },
  {
   "cell_type": "code",
   "execution_count": null,
   "metadata": {},
   "outputs": [],
   "source": []
  }
 ],
 "metadata": {
  "kernelspec": {
   "display_name": "python39",
   "language": "python",
   "name": "python3"
  },
  "language_info": {
   "codemirror_mode": {
    "name": "ipython",
    "version": 3
   },
   "file_extension": ".py",
   "mimetype": "text/x-python",
   "name": "python",
   "nbconvert_exporter": "python",
   "pygments_lexer": "ipython3",
   "version": "3.9.19"
  }
 },
 "nbformat": 4,
 "nbformat_minor": 2
}
