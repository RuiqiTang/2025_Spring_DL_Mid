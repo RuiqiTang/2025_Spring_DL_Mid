{
 "cells": [
  {
   "cell_type": "code",
   "execution_count": 6,
   "metadata": {},
   "outputs": [],
   "source": [
    "import os \n",
    "workspace='/Users/tr/Documents/GitHub/2025_Spring_DL_Mid'\n",
    "os.chdir(workspace)"
   ]
  },
  {
   "cell_type": "code",
   "execution_count": null,
   "metadata": {},
   "outputs": [],
   "source": [
    "from preprocess.Task1Preprocess import Task1Proprocess\n",
    "Task1Proprocess(filebase=\"/Users/tr/Documents/GitHub/2025_Spring_DL_Mid/Task1/data\")"
   ]
  },
  {
   "cell_type": "code",
   "execution_count": 12,
   "metadata": {},
   "outputs": [
    {
     "name": "stdout",
     "output_type": "stream",
     "text": [
      "Train size: 3030, Val size: 5647\n"
     ]
    }
   ],
   "source": [
    "from preprocess.Task1Preprocess import Task1Dataloader\n",
    "dataloader_instance=Task1Dataloader(datafilebase='/Users/tr/Documents/GitHub/2025_Spring_DL_Mid/Task1/data/caltect101/images')\n",
    "trainloader,valloader=dataloader_instance.prepare_data()"
   ]
  },
  {
   "cell_type": "code",
   "execution_count": null,
   "metadata": {},
   "outputs": [],
   "source": [
    "import torch \n",
    "from model.model import ResNet18Model\n",
    "\n",
    "device=torch.device(\"cuda\" if torch.cuda.is_available() else \"cpu\")\n",
    "model=ResNet18Model().to(device)"
   ]
  },
  {
   "cell_type": "code",
   "execution_count": 2,
   "metadata": {},
   "outputs": [],
   "source": [
    "class Task1Config:\n",
    "    def __init__(self):\n",
    "        self.epochs=20\n",
    "        self.lr=1e-3\n",
    "        self.fine_tune_lr=1e-4\n",
    "\n",
    "task1_config=Task1Config()"
   ]
  },
  {
   "cell_type": "code",
   "execution_count": null,
   "metadata": {},
   "outputs": [],
   "source": [
    "import os \n",
    "from train import train_model\n",
    "\n",
    "train_model(model=model,train_loader=trainloader,val_loader=valloader,\n",
    "            device=device,project_base=os.path.join(workspace,'Task1'),\n",
    "            epochs=task1_config.epochs,lr=task1_config.lr,fine_tune_lr=task1_config.fine_tune_lr)"
   ]
  },
  {
   "cell_type": "code",
   "execution_count": null,
   "metadata": {},
   "outputs": [],
   "source": [
    "# open tensorboard to check\n",
    "# %load_ext tensorboard\n",
    "# %tensorboard --logdir /content/mid-term-tensorboard/Task-1/ResNet_1747412023.3229215"
   ]
  }
 ],
 "metadata": {
  "kernelspec": {
   "display_name": "python39",
   "language": "python",
   "name": "python3"
  },
  "language_info": {
   "codemirror_mode": {
    "name": "ipython",
    "version": 3
   },
   "file_extension": ".py",
   "mimetype": "text/x-python",
   "name": "python",
   "nbconvert_exporter": "python",
   "pygments_lexer": "ipython3",
   "version": "3.9.19"
  }
 },
 "nbformat": 4,
 "nbformat_minor": 2
}
